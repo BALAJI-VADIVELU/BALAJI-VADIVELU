{
 "cells": [
  {
   "cell_type": "code",
   "execution_count": 1,
   "id": "0e53d6fc",
   "metadata": {},
   "outputs": [],
   "source": [
    "from selenium import webdriver\n",
    "import time"
   ]
  },
  {
   "cell_type": "markdown",
   "id": "4d5cc693",
   "metadata": {},
   "source": [
    "### Starting the webpage in Google Chrome with webdriver"
   ]
  },
  {
   "cell_type": "code",
   "execution_count": 2,
   "id": "6fc347c7",
   "metadata": {
    "scrolled": true
   },
   "outputs": [
    {
     "name": "stderr",
     "output_type": "stream",
     "text": [
      "C:\\Users\\balaj\\AppData\\Local\\Temp\\ipykernel_3904\\126295628.py:1: DeprecationWarning: executable_path has been deprecated, please pass in a Service object\n",
      "  driver = webdriver.Chrome('C:/Users/balaj/Downloads/Data Mining/chromedriver.exe')\n"
     ]
    }
   ],
   "source": [
    "driver = webdriver.Chrome('C:/Users/balaj/Downloads/Data Mining/chromedriver.exe')"
   ]
  },
  {
   "cell_type": "code",
   "execution_count": 3,
   "id": "601ad3db",
   "metadata": {},
   "outputs": [],
   "source": [
    "driver.get('https://google.com')"
   ]
  },
  {
   "cell_type": "markdown",
   "id": "0e60dfdf",
   "metadata": {},
   "source": [
    "### selecting the Google search box, typing the search content and clicking Enter"
   ]
  },
  {
   "cell_type": "code",
   "execution_count": 4,
   "id": "fe151b42",
   "metadata": {},
   "outputs": [],
   "source": [
    "input_box = driver.find_element('xpath','/html/body/div[1]/div[3]/form/div[1]/div[1]/div[1]/div/div[2]/input')\n"
   ]
  },
  {
   "cell_type": "code",
   "execution_count": 5,
   "id": "c58d089e",
   "metadata": {},
   "outputs": [],
   "source": [
    "input_box.send_keys('top 100 greatest movies of all time imdb')"
   ]
  },
  {
   "cell_type": "code",
   "execution_count": 6,
   "id": "fa8a4ecc",
   "metadata": {},
   "outputs": [],
   "source": [
    "press = driver.find_element('xpath','/html/body/div[1]/div[3]/form/div[1]/div[1]/div[3]/center/input[1]').click()"
   ]
  },
  {
   "cell_type": "markdown",
   "id": "ad41e8e5",
   "metadata": {},
   "source": [
    "### Selecting the IMDB website link"
   ]
  },
  {
   "cell_type": "code",
   "execution_count": 7,
   "id": "571e7898",
   "metadata": {},
   "outputs": [],
   "source": [
    "press = driver.find_element('xpath','//*[@id=\"rso\"]/div[1]/div/div[1]/div/a/h3').click()"
   ]
  },
  {
   "cell_type": "code",
   "execution_count": 8,
   "id": "6fbeb7f6",
   "metadata": {},
   "outputs": [],
   "source": [
    "time.sleep(3)"
   ]
  },
  {
   "cell_type": "code",
   "execution_count": 9,
   "id": "c6fa9a5a",
   "metadata": {},
   "outputs": [],
   "source": [
    "#correct scroll height is achieved by trail and error method\n",
    "driver.execute_script('window.scrollTo(0,22500)')"
   ]
  },
  {
   "cell_type": "code",
   "execution_count": 10,
   "id": "227466b1",
   "metadata": {},
   "outputs": [
    {
     "data": {
      "text/plain": [
       "True"
      ]
     },
     "execution_count": 10,
     "metadata": {},
     "output_type": "execute_result"
    }
   ],
   "source": [
    "driver.save_screenshot('jaws.png')"
   ]
  },
  {
   "cell_type": "code",
   "execution_count": 11,
   "id": "40c95c04",
   "metadata": {},
   "outputs": [],
   "source": [
    "press = driver.find_element('xpath','//*[@id=\"main\"]/div/div[4]/div[3]/div[50]/div[1]/a/img').screenshot('jaws1.png')"
   ]
  },
  {
   "cell_type": "code",
   "execution_count": null,
   "id": "722240b7",
   "metadata": {},
   "outputs": [],
   "source": []
  }
 ],
 "metadata": {
  "kernelspec": {
   "display_name": "Python 3 (ipykernel)",
   "language": "python",
   "name": "python3"
  },
  "language_info": {
   "codemirror_mode": {
    "name": "ipython",
    "version": 3
   },
   "file_extension": ".py",
   "mimetype": "text/x-python",
   "name": "python",
   "nbconvert_exporter": "python",
   "pygments_lexer": "ipython3",
   "version": "3.9.12"
  }
 },
 "nbformat": 4,
 "nbformat_minor": 5
}
